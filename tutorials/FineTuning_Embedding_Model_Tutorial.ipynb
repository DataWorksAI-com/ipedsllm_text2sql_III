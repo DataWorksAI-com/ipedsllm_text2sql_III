{
 "cells": [
  {
   "cell_type": "markdown",
   "metadata": {},
   "source": [
    "# Tutorial: Fine-tuning an Embedding Model with Evaluation and Histogram Analysis\n",
    "\n",
    "In this tutorial, we will:\n",
    "\n",
    "- Fine-tune a pre-trained SentenceTransformer model on a custom dataset of sentence pairs.\n",
    "- Compare cosine similarity distributions before and after fine-tuning using histogram plots.\n",
    "- Evaluate the model using accuracy, confusion matrix, precision, recall, and F1 score.\n",
    "- Demonstrate the use of different loss functions (e.g. **ContrastiveLoss**).\n",
    "\n",
    "Let's get started!"
   ]
  },
  {
   "cell_type": "code",
   "execution_count": 35,
   "metadata": {},
   "outputs": [
    {
     "name": "stdout",
     "output_type": "stream",
     "text": [
      "All libraries imported successfully!\n"
     ]
    }
   ],
   "source": [
    "# Step 1: Import the required libraries\n",
    "import torch\n",
    "import numpy as np\n",
    "import pandas as pd\n",
    "\n",
    "from torch.utils.data import DataLoader\n",
    "from sklearn.metrics import confusion_matrix, accuracy_score, precision_score, recall_score, f1_score\n",
    "from sklearn.metrics.pairwise import cosine_similarity\n",
    "from sklearn.metrics import confusion_matrix, ConfusionMatrixDisplay\n",
    "\n",
    "import matplotlib.pyplot as plt\n",
    "\n",
    "from sentence_transformers import SentenceTransformer, InputExample, losses\n",
    "\n",
    "print('All libraries imported successfully!')"
   ]
  },
  {
   "cell_type": "markdown",
   "metadata": {},
   "source": [
    "## Step 2: Data Preparation\n",
    "\n",
    "We create a sample dataset with sentence pairs and a binary label indicating whether the sentences are similar (1) or not (0).\n",
    "\n",
    "The CSV file located on \"data/data_for_embedding/final/embedding_dataset_question_table_description_label.csv\" on GitHub Repository\n"
   ]
  },
  {
   "cell_type": "code",
   "execution_count": 21,
   "metadata": {},
   "outputs": [
    {
     "data": {
      "text/html": [
       "<div>\n",
       "<style scoped>\n",
       "    .dataframe tbody tr th:only-of-type {\n",
       "        vertical-align: middle;\n",
       "    }\n",
       "\n",
       "    .dataframe tbody tr th {\n",
       "        vertical-align: top;\n",
       "    }\n",
       "\n",
       "    .dataframe thead th {\n",
       "        text-align: right;\n",
       "    }\n",
       "</style>\n",
       "<table border=\"1\" class=\"dataframe\">\n",
       "  <thead>\n",
       "    <tr style=\"text-align: right;\">\n",
       "      <th></th>\n",
       "      <th>Question</th>\n",
       "      <th>Table_description</th>\n",
       "      <th>label</th>\n",
       "    </tr>\n",
       "  </thead>\n",
       "  <tbody>\n",
       "    <tr>\n",
       "      <th>0</th>\n",
       "      <td>Which schools require high school grades</td>\n",
       "      <td>This table contains data for branch campus loc...</td>\n",
       "      <td>1</td>\n",
       "    </tr>\n",
       "    <tr>\n",
       "      <th>1</th>\n",
       "      <td>Which schools require high school grades</td>\n",
       "      <td>This table contains the graduation rate status...</td>\n",
       "      <td>1</td>\n",
       "    </tr>\n",
       "    <tr>\n",
       "      <th>2</th>\n",
       "      <td>Which schools require high school grades</td>\n",
       "      <td>This table contains information about the unde...</td>\n",
       "      <td>1</td>\n",
       "    </tr>\n",
       "    <tr>\n",
       "      <th>3</th>\n",
       "      <td>Which schools require high school grades</td>\n",
       "      <td>This table contains the number of programs off...</td>\n",
       "      <td>1</td>\n",
       "    </tr>\n",
       "    <tr>\n",
       "      <th>4</th>\n",
       "      <td>Which schools require high school grades</td>\n",
       "      <td>This table contains directory information for ...</td>\n",
       "      <td>0</td>\n",
       "    </tr>\n",
       "  </tbody>\n",
       "</table>\n",
       "</div>"
      ],
      "text/plain": [
       "                                   Question  \\\n",
       "0  Which schools require high school grades   \n",
       "1  Which schools require high school grades   \n",
       "2  Which schools require high school grades   \n",
       "3  Which schools require high school grades   \n",
       "4  Which schools require high school grades   \n",
       "\n",
       "                                   Table_description  label  \n",
       "0  This table contains data for branch campus loc...      1  \n",
       "1  This table contains the graduation rate status...      1  \n",
       "2  This table contains information about the unde...      1  \n",
       "3  This table contains the number of programs off...      1  \n",
       "4  This table contains directory information for ...      0  "
      ]
     },
     "execution_count": 21,
     "metadata": {},
     "output_type": "execute_result"
    }
   ],
   "source": [
    "df = pd.read_csv('/content/embedding_dataset_question_table_description_label.csv')\n",
    "df.head()"
   ]
  },
  {
   "cell_type": "code",
   "execution_count": 24,
   "metadata": {},
   "outputs": [
    {
     "name": "stdout",
     "output_type": "stream",
     "text": [
      "\n",
      "Number of training examples: 1086\n"
     ]
    }
   ],
   "source": [
    "# Convert DataFrame rows to InputExample objects required by SentenceTransformer\n",
    "train_examples = []\n",
    "for _, row in df.iterrows():\n",
    "    train_examples.append(InputExample(texts=[row['Question'], row['Table_description']], label=float(row['label'])))\n",
    "\n",
    "print('\\nNumber of training examples:', len(train_examples))"
   ]
  },
  {
   "cell_type": "markdown",
   "metadata": {},
   "source": [
    "## Step 3: Initial Cosine Similarity Evaluation (Before Fine-tuning)\n",
    "\n",
    "Before fine-tuning, we compute the cosine similarity between the embeddings of each sentence pair and visualize the distribution with a histogram."
   ]
  },
  {
   "cell_type": "code",
   "execution_count": 26,
   "metadata": {},
   "outputs": [
    {
     "name": "stdout",
     "output_type": "stream",
     "text": [
      "Cosine similarities before fine-tuning:\n"
     ]
    },
    {
     "data": {
      "text/html": [
       "<div>\n",
       "<style scoped>\n",
       "    .dataframe tbody tr th:only-of-type {\n",
       "        vertical-align: middle;\n",
       "    }\n",
       "\n",
       "    .dataframe tbody tr th {\n",
       "        vertical-align: top;\n",
       "    }\n",
       "\n",
       "    .dataframe thead th {\n",
       "        text-align: right;\n",
       "    }\n",
       "</style>\n",
       "<table border=\"1\" class=\"dataframe\">\n",
       "  <thead>\n",
       "    <tr style=\"text-align: right;\">\n",
       "      <th></th>\n",
       "      <th>Question</th>\n",
       "      <th>Table_description</th>\n",
       "      <th>cosine_similarity_before</th>\n",
       "    </tr>\n",
       "  </thead>\n",
       "  <tbody>\n",
       "    <tr>\n",
       "      <th>0</th>\n",
       "      <td>Which schools require high school grades</td>\n",
       "      <td>This table contains data for branch campus loc...</td>\n",
       "      <td>0.183993</td>\n",
       "    </tr>\n",
       "    <tr>\n",
       "      <th>1</th>\n",
       "      <td>Which schools require high school grades</td>\n",
       "      <td>This table contains the graduation rate status...</td>\n",
       "      <td>0.292432</td>\n",
       "    </tr>\n",
       "    <tr>\n",
       "      <th>2</th>\n",
       "      <td>Which schools require high school grades</td>\n",
       "      <td>This table contains information about the unde...</td>\n",
       "      <td>0.386880</td>\n",
       "    </tr>\n",
       "    <tr>\n",
       "      <th>3</th>\n",
       "      <td>Which schools require high school grades</td>\n",
       "      <td>This table contains the number of programs off...</td>\n",
       "      <td>0.312553</td>\n",
       "    </tr>\n",
       "    <tr>\n",
       "      <th>4</th>\n",
       "      <td>Which schools require high school grades</td>\n",
       "      <td>This table contains directory information for ...</td>\n",
       "      <td>0.226394</td>\n",
       "    </tr>\n",
       "    <tr>\n",
       "      <th>...</th>\n",
       "      <td>...</td>\n",
       "      <td>...</td>\n",
       "      <td>...</td>\n",
       "    </tr>\n",
       "    <tr>\n",
       "      <th>1081</th>\n",
       "      <td>How many universites have graduate offerings</td>\n",
       "      <td>This table contains the graduation rate status...</td>\n",
       "      <td>0.487913</td>\n",
       "    </tr>\n",
       "    <tr>\n",
       "      <th>1082</th>\n",
       "      <td>How many universites have graduate offerings</td>\n",
       "      <td>This table contains information about the unde...</td>\n",
       "      <td>0.265634</td>\n",
       "    </tr>\n",
       "    <tr>\n",
       "      <th>1083</th>\n",
       "      <td>How many universites have graduate offerings</td>\n",
       "      <td>This table contains the number of programs off...</td>\n",
       "      <td>0.345595</td>\n",
       "    </tr>\n",
       "    <tr>\n",
       "      <th>1084</th>\n",
       "      <td>How many universites have graduate offerings</td>\n",
       "      <td>This table contains directory information for ...</td>\n",
       "      <td>0.326346</td>\n",
       "    </tr>\n",
       "    <tr>\n",
       "      <th>1085</th>\n",
       "      <td>How many universites have graduate offerings</td>\n",
       "      <td>This table contains the unduplicated headcount...</td>\n",
       "      <td>0.240789</td>\n",
       "    </tr>\n",
       "  </tbody>\n",
       "</table>\n",
       "<p>1086 rows × 3 columns</p>\n",
       "</div>"
      ],
      "text/plain": [
       "                                          Question  \\\n",
       "0         Which schools require high school grades   \n",
       "1         Which schools require high school grades   \n",
       "2         Which schools require high school grades   \n",
       "3         Which schools require high school grades   \n",
       "4         Which schools require high school grades   \n",
       "...                                            ...   \n",
       "1081  How many universites have graduate offerings   \n",
       "1082  How many universites have graduate offerings   \n",
       "1083  How many universites have graduate offerings   \n",
       "1084  How many universites have graduate offerings   \n",
       "1085  How many universites have graduate offerings   \n",
       "\n",
       "                                      Table_description  \\\n",
       "0     This table contains data for branch campus loc...   \n",
       "1     This table contains the graduation rate status...   \n",
       "2     This table contains information about the unde...   \n",
       "3     This table contains the number of programs off...   \n",
       "4     This table contains directory information for ...   \n",
       "...                                                 ...   \n",
       "1081  This table contains the graduation rate status...   \n",
       "1082  This table contains information about the unde...   \n",
       "1083  This table contains the number of programs off...   \n",
       "1084  This table contains directory information for ...   \n",
       "1085  This table contains the unduplicated headcount...   \n",
       "\n",
       "      cosine_similarity_before  \n",
       "0                     0.183993  \n",
       "1                     0.292432  \n",
       "2                     0.386880  \n",
       "3                     0.312553  \n",
       "4                     0.226394  \n",
       "...                        ...  \n",
       "1081                  0.487913  \n",
       "1082                  0.265634  \n",
       "1083                  0.345595  \n",
       "1084                  0.326346  \n",
       "1085                  0.240789  \n",
       "\n",
       "[1086 rows x 3 columns]"
      ]
     },
     "execution_count": 26,
     "metadata": {},
     "output_type": "execute_result"
    }
   ],
   "source": [
    "# Load a pre-trained SentenceTransformer model\n",
    "model = SentenceTransformer('all-MiniLM-L6-v2')\n",
    "\n",
    "# Compute embeddings for sentence1 and sentence2\n",
    "embeddings1 = model.encode(df[\"Question\"].tolist())\n",
    "embeddings2 = model.encode(df[\"Table_description\"].tolist())\n",
    "\n",
    "# Compute cosine similarity for each pair\n",
    "cosine_similarities = []\n",
    "for emb1, emb2 in zip(embeddings1, embeddings2):\n",
    "    sim = cosine_similarity([emb1], [emb2])[0][0]\n",
    "    cosine_similarities.append(sim)\n",
    "\n",
    "# Add cosine similarity scores to the dataframe\n",
    "df['cosine_similarity_before'] = cosine_similarities\n",
    "print('Cosine similarities before fine-tuning:')\n",
    "df[['Question', 'Table_description', 'cosine_similarity_before']]"
   ]
  },
  {
   "cell_type": "code",
   "execution_count": 27,
   "metadata": {},
   "outputs": [
    {
     "data": {
      "image/png": "[encoded data removed]",
      "text/plain": [
       "<Figure size 600x400 with 1 Axes>"
      ]
     },
     "metadata": {},
     "output_type": "display_data"
    }
   ],
   "source": [
    "# Plot histogram of cosine similarity scores before training\n",
    "plt.figure(figsize=(6,4))\n",
    "plt.hist(cosine_similarities, bins=10, edgecolor='black')\n",
    "plt.title('Histogram of Cosine Similarities (Before Training)')\n",
    "plt.xlabel('Cosine Similarity')\n",
    "plt.ylabel('Frequency')\n",
    "plt.show()"
   ]
  },
  {
   "cell_type": "markdown",
   "metadata": {},
   "source": [
    "## Step 4: Model Definition and Loss Setup\n",
    "\n",
    "We load the same pre-trained model as our starting point. In this tutorial, we use **ContrastiveLoss** as our loss function, which is well-suited when you have pairs of sentences with a binary similarity label. \n",
    "\n",
    ">*Note:* If you prefer, you can switch to another loss such as `CosineSimilarityLoss` by modifying the loss function below."
   ]
  },
  {
   "cell_type": "code",
   "execution_count": 28,
   "metadata": {},
   "outputs": [
    {
     "name": "stdout",
     "output_type": "stream",
     "text": [
      "Model and training components are set up with ContrastiveLoss.\n"
     ]
    }
   ],
   "source": [
    "# Load the model (if not already loaded) and define the loss function\n",
    "model = SentenceTransformer('all-MiniLM-L6-v2')\n",
    "\n",
    "# Choose the loss function. Here we use ContrastiveLoss.\n",
    "loss = losses.ContrastiveLoss(model=model)\n",
    "\n",
    "# Alternatively, you can use CosineSimilarityLoss by uncommenting the next line\n",
    "# loss = losses.CosineSimilarityLoss(model=model)\n",
    "\n",
    "# Create a DataLoader for our training examples\n",
    "train_dataloader = DataLoader(train_examples, shuffle=True, batch_size=2)\n",
    "\n",
    "print('Model and training components are set up with ContrastiveLoss.')"
   ]
  },
  {
   "cell_type": "markdown",
   "metadata": {},
   "source": [
    "## Step 5: Fine-tuning the Model\n",
    "\n",
    "Now we fine-tune the model using our custom dataset. For demonstration purposes, we set a small number of epochs. In a production scenario, consider using a larger dataset and more training epochs."
   ]
  },
  {
   "cell_type": "code",
   "execution_count": 30,
   "metadata": {},
   "outputs": [
    {
     "name": "stdout",
     "output_type": "stream",
     "text": [
      "Starting fine-tuning...\n"
     ]
    },
    {
     "data": {
      "text/html": [
       "\n",
       "    <div>\n",
       "      \n",
       "      <progress value='543' max='543' style='width:300px; height:20px; vertical-align: middle;'></progress>\n",
       "      [543/543 01:00, Epoch 1/1]\n",
       "    </div>\n",
       "    <table border=\"1\" class=\"dataframe\">\n",
       "  <thead>\n",
       " <tr style=\"text-align: left;\">\n",
       "      <th>Step</th>\n",
       "      <th>Training Loss</th>\n",
       "    </tr>\n",
       "  </thead>\n",
       "  <tbody>\n",
       "    <tr>\n",
       "      <td>500</td>\n",
       "      <td>0.015700</td>\n",
       "    </tr>\n",
       "  </tbody>\n",
       "</table><p>"
      ],
      "text/plain": [
       "<IPython.core.display.HTML object>"
      ]
     },
     "metadata": {},
     "output_type": "display_data"
    },
    {
     "name": "stdout",
     "output_type": "stream",
     "text": [
      "Fine-tuning completed!\n"
     ]
    }
   ],
   "source": [
    "# Fine-tune the model\n",
    "num_epochs = 1  \n",
    "\n",
    "print('Starting fine-tuning...')\n",
    "model.fit(\n",
    "    train_objectives=[(train_dataloader, loss)],\n",
    "    epochs=num_epochs,\n",
    "    warmup_steps=10,\n",
    "    show_progress_bar=True\n",
    ")\n",
    "print('Fine-tuning completed!')"
   ]
  },
  {
   "cell_type": "markdown",
   "metadata": {},
   "source": [
    "## Step 6: Post-training Evaluation and Histogram Analysis\n",
    "\n",
    "After fine-tuning, we recompute the cosine similarities for each sentence pair. We then:\n",
    "\n",
    "- Plot a histogram of the updated cosine similarity scores.\n",
    "- Define a prediction threshold (e.g. 0.9) to convert cosine similarities into binary labels.\n",
    "- Compute evaluation metrics such as accuracy, confusion matrix, precision, recall, and F1 score."
   ]
  },
  {
   "cell_type": "code",
   "execution_count": 31,
   "metadata": {},
   "outputs": [
    {
     "name": "stdout",
     "output_type": "stream",
     "text": [
      "Cosine similarities after fine-tuning:\n"
     ]
    },
    {
     "data": {
      "text/html": [
       "<div>\n",
       "<style scoped>\n",
       "    .dataframe tbody tr th:only-of-type {\n",
       "        vertical-align: middle;\n",
       "    }\n",
       "\n",
       "    .dataframe tbody tr th {\n",
       "        vertical-align: top;\n",
       "    }\n",
       "\n",
       "    .dataframe thead th {\n",
       "        text-align: right;\n",
       "    }\n",
       "</style>\n",
       "<table border=\"1\" class=\"dataframe\">\n",
       "  <thead>\n",
       "    <tr style=\"text-align: right;\">\n",
       "      <th></th>\n",
       "      <th>Question</th>\n",
       "      <th>Table_description</th>\n",
       "      <th>cosine_similarity_after</th>\n",
       "    </tr>\n",
       "  </thead>\n",
       "  <tbody>\n",
       "    <tr>\n",
       "      <th>0</th>\n",
       "      <td>Which schools require high school grades</td>\n",
       "      <td>This table contains data for branch campus loc...</td>\n",
       "      <td>0.949610</td>\n",
       "    </tr>\n",
       "    <tr>\n",
       "      <th>1</th>\n",
       "      <td>Which schools require high school grades</td>\n",
       "      <td>This table contains the graduation rate status...</td>\n",
       "      <td>0.953320</td>\n",
       "    </tr>\n",
       "    <tr>\n",
       "      <th>2</th>\n",
       "      <td>Which schools require high school grades</td>\n",
       "      <td>This table contains information about the unde...</td>\n",
       "      <td>0.959573</td>\n",
       "    </tr>\n",
       "    <tr>\n",
       "      <th>3</th>\n",
       "      <td>Which schools require high school grades</td>\n",
       "      <td>This table contains the number of programs off...</td>\n",
       "      <td>0.858712</td>\n",
       "    </tr>\n",
       "    <tr>\n",
       "      <th>4</th>\n",
       "      <td>Which schools require high school grades</td>\n",
       "      <td>This table contains directory information for ...</td>\n",
       "      <td>0.591443</td>\n",
       "    </tr>\n",
       "    <tr>\n",
       "      <th>...</th>\n",
       "      <td>...</td>\n",
       "      <td>...</td>\n",
       "      <td>...</td>\n",
       "    </tr>\n",
       "    <tr>\n",
       "      <th>1081</th>\n",
       "      <td>How many universites have graduate offerings</td>\n",
       "      <td>This table contains the graduation rate status...</td>\n",
       "      <td>0.972756</td>\n",
       "    </tr>\n",
       "    <tr>\n",
       "      <th>1082</th>\n",
       "      <td>How many universites have graduate offerings</td>\n",
       "      <td>This table contains information about the unde...</td>\n",
       "      <td>0.968647</td>\n",
       "    </tr>\n",
       "    <tr>\n",
       "      <th>1083</th>\n",
       "      <td>How many universites have graduate offerings</td>\n",
       "      <td>This table contains the number of programs off...</td>\n",
       "      <td>0.867262</td>\n",
       "    </tr>\n",
       "    <tr>\n",
       "      <th>1084</th>\n",
       "      <td>How many universites have graduate offerings</td>\n",
       "      <td>This table contains directory information for ...</td>\n",
       "      <td>0.657458</td>\n",
       "    </tr>\n",
       "    <tr>\n",
       "      <th>1085</th>\n",
       "      <td>How many universites have graduate offerings</td>\n",
       "      <td>This table contains the unduplicated headcount...</td>\n",
       "      <td>0.420332</td>\n",
       "    </tr>\n",
       "  </tbody>\n",
       "</table>\n",
       "<p>1086 rows × 3 columns</p>\n",
       "</div>"
      ],
      "text/plain": [
       "                                          Question  \\\n",
       "0         Which schools require high school grades   \n",
       "1         Which schools require high school grades   \n",
       "2         Which schools require high school grades   \n",
       "3         Which schools require high school grades   \n",
       "4         Which schools require high school grades   \n",
       "...                                            ...   \n",
       "1081  How many universites have graduate offerings   \n",
       "1082  How many universites have graduate offerings   \n",
       "1083  How many universites have graduate offerings   \n",
       "1084  How many universites have graduate offerings   \n",
       "1085  How many universites have graduate offerings   \n",
       "\n",
       "                                      Table_description  \\\n",
       "0     This table contains data for branch campus loc...   \n",
       "1     This table contains the graduation rate status...   \n",
       "2     This table contains information about the unde...   \n",
       "3     This table contains the number of programs off...   \n",
       "4     This table contains directory information for ...   \n",
       "...                                                 ...   \n",
       "1081  This table contains the graduation rate status...   \n",
       "1082  This table contains information about the unde...   \n",
       "1083  This table contains the number of programs off...   \n",
       "1084  This table contains directory information for ...   \n",
       "1085  This table contains the unduplicated headcount...   \n",
       "\n",
       "      cosine_similarity_after  \n",
       "0                    0.949610  \n",
       "1                    0.953320  \n",
       "2                    0.959573  \n",
       "3                    0.858712  \n",
       "4                    0.591443  \n",
       "...                       ...  \n",
       "1081                 0.972756  \n",
       "1082                 0.968647  \n",
       "1083                 0.867262  \n",
       "1084                 0.657458  \n",
       "1085                 0.420332  \n",
       "\n",
       "[1086 rows x 3 columns]"
      ]
     },
     "execution_count": 31,
     "metadata": {},
     "output_type": "execute_result"
    }
   ],
   "source": [
    "# Compute embeddings with the fine-tuned model\n",
    "embeddings1_after = model.encode(df[\"Question\"].tolist())\n",
    "embeddings2_after = model.encode(df[\"Table_description\"].tolist())\n",
    "\n",
    "cosine_similarities_after = []\n",
    "for emb1, emb2 in zip(embeddings1_after, embeddings2_after):\n",
    "    sim = cosine_similarity([emb1], [emb2])[0][0]\n",
    "    cosine_similarities_after.append(sim)\n",
    "\n",
    "# Add post-training cosine similarity scores to the dataframe\n",
    "df['cosine_similarity_after'] = cosine_similarities_after\n",
    "print('Cosine similarities after fine-tuning:')\n",
    "df[['Question', 'Table_description', 'cosine_similarity_after']]\n"
   ]
  },
  {
   "cell_type": "code",
   "execution_count": 32,
   "metadata": {},
   "outputs": [
    {
     "data": {
      "image/png": "[encoded data removed]",
      "text/plain": [
       "<Figure size 600x400 with 1 Axes>"
      ]
     },
     "metadata": {},
     "output_type": "display_data"
    }
   ],
   "source": [
    "\n",
    "# Plot histogram of cosine similarity scores after training\n",
    "plt.figure(figsize=(6,4))\n",
    "plt.hist(cosine_similarities_after, bins=10, edgecolor='black')\n",
    "plt.title('Histogram of Cosine Similarities (After Training)')\n",
    "plt.xlabel('Cosine Similarity')\n",
    "plt.ylabel('Frequency')\n",
    "plt.show()\n"
   ]
  },
  {
   "cell_type": "code",
   "execution_count": 36,
   "metadata": {},
   "outputs": [
    {
     "name": "stdout",
     "output_type": "stream",
     "text": [
      "Accuracy: 78.73%\n",
      "Precision: 95.40%\n",
      "Recall: 71.55%\n",
      "F1 Score: 81.77%\n"
     ]
    },
    {
     "data": {
      "image/png": "[encoded data removed]",
      "text/plain": [
       "<Figure size 640x480 with 2 Axes>"
      ]
     },
     "metadata": {},
     "output_type": "display_data"
    }
   ],
   "source": [
    "# Define a threshold to convert cosine similarity into a binary prediction\n",
    "threshold = 0.9\n",
    "df['predicted_label'] = df['cosine_similarity_after'].apply(lambda x: 1 if x > threshold else 0)\n",
    "\n",
    "# Calculate evaluation metrics\n",
    "acc = accuracy_score(df['label'], df['predicted_label'])\n",
    "prec = precision_score(df['label'], df['predicted_label'])\n",
    "rec = recall_score(df['label'], df['predicted_label'])\n",
    "f1 = f1_score(df['label'], df['predicted_label'])\n",
    "\n",
    "print(f\"Accuracy: {acc*100:.2f}%\")\n",
    "print(f\"Precision: {prec*100:.2f}%\")\n",
    "print(f\"Recall: {rec*100:.2f}%\")\n",
    "print(f\"F1 Score: {f1*100:.2f}%\")\n",
    "\n",
    "# Compute the confusion matrix directly\n",
    "cm = confusion_matrix(df['label'], df['predicted_label'])\n",
    "\n",
    "# Create the display object with the confusion matrix and desired display labels\n",
    "disp = ConfusionMatrixDisplay(confusion_matrix=cm, display_labels=['Negative', 'Positive'])\n",
    "\n",
    "# Plot the confusion matrix with a chosen color map (optional)\n",
    "disp.plot(cmap=plt.cm.Blues)\n",
    "plt.title(\"Confusion Matrix\")\n",
    "plt.show()"
   ]
  },
  {
   "cell_type": "markdown",
   "metadata": {},
   "source": [
    "# how to compute accuracy at different K values for the model.\n",
    "## The evaluation measures how well the model retrieves relevant tables (where label == 1) for each question based on the top K predicted tables."
   ]
  },
  {
   "cell_type": "code",
   "execution_count": 42,
   "metadata": {},
   "outputs": [
    {
     "data": {
      "text/html": [
       "<div>\n",
       "<style scoped>\n",
       "    .dataframe tbody tr th:only-of-type {\n",
       "        vertical-align: middle;\n",
       "    }\n",
       "\n",
       "    .dataframe tbody tr th {\n",
       "        vertical-align: top;\n",
       "    }\n",
       "\n",
       "    .dataframe thead th {\n",
       "        text-align: right;\n",
       "    }\n",
       "</style>\n",
       "<table border=\"1\" class=\"dataframe\">\n",
       "  <thead>\n",
       "    <tr style=\"text-align: right;\">\n",
       "      <th></th>\n",
       "      <th>K</th>\n",
       "      <th>Accuracy (%)</th>\n",
       "    </tr>\n",
       "  </thead>\n",
       "  <tbody>\n",
       "    <tr>\n",
       "      <th>0</th>\n",
       "      <td>1</td>\n",
       "      <td>25.0</td>\n",
       "    </tr>\n",
       "    <tr>\n",
       "      <th>1</th>\n",
       "      <td>2</td>\n",
       "      <td>50.0</td>\n",
       "    </tr>\n",
       "    <tr>\n",
       "      <th>2</th>\n",
       "      <td>3</td>\n",
       "      <td>75.0</td>\n",
       "    </tr>\n",
       "    <tr>\n",
       "      <th>3</th>\n",
       "      <td>4</td>\n",
       "      <td>100.0</td>\n",
       "    </tr>\n",
       "    <tr>\n",
       "      <th>4</th>\n",
       "      <td>5</td>\n",
       "      <td>100.0</td>\n",
       "    </tr>\n",
       "    <tr>\n",
       "      <th>5</th>\n",
       "      <td>6</td>\n",
       "      <td>100.0</td>\n",
       "    </tr>\n",
       "  </tbody>\n",
       "</table>\n",
       "</div>"
      ],
      "text/plain": [
       "   K  Accuracy (%)\n",
       "0  1          25.0\n",
       "1  2          50.0\n",
       "2  3          75.0\n",
       "3  4         100.0\n",
       "4  5         100.0\n",
       "5  6         100.0"
      ]
     },
     "execution_count": 42,
     "metadata": {},
     "output_type": "execute_result"
    }
   ],
   "source": [
    "import pandas as pd\n",
    "\n",
    "# Example DataFrame (for testing purposes)\n",
    "# Uncomment and modify the following code to load your actual DataFrame.\n",
    "# data = {\n",
    "#     'Question': ['Q1', 'Q1', 'Q1', 'Q2', 'Q2', 'Q3', 'Q3', 'Q3', 'Q3'],\n",
    "#     'Table_description': ['T1', 'T2', 'T3', 'T4', 'T5', 'T6', 'T7', 'T8', 'T9'],\n",
    "#     'label': [1, 0, 0, 1, 0, 0, 1, 0, 0]\n",
    "# }\n",
    "# df = pd.DataFrame(data)\n",
    "\n",
    "def calculate_accuracy_at_k(df: pd.DataFrame, k_values: list) -> list:\n",
    "    \"\"\"\n",
    "    Calculate accuracy at various top-K values for each question.\n",
    "\n",
    "    For each unique question in the DataFrame, the function computes the accuracy\n",
    "    at different K values based on the number of relevant tables (where label == 1)\n",
    "    found in the top K predictions.\n",
    "\n",
    "    Parameters:\n",
    "        df (pd.DataFrame): DataFrame with columns 'Question', 'label', and 'Table_description'.\n",
    "                           It is assumed that rows for a given question are sorted by predicted\n",
    "                           cosine similarity (from highest to lowest).\n",
    "        k_values (list): List of integer K values at which to calculate the accuracy.\n",
    "\n",
    "    Returns:\n",
    "        results (list): A list of dictionaries. Each dictionary contains:\n",
    "            - 'question': The question text.\n",
    "            - 'relevant_table': Set of tables with label == 1.\n",
    "            - 'accuracy_at_k': Dictionary mapping each K value to its corresponding accuracy.\n",
    "    \"\"\"\n",
    "    results = []\n",
    "    \n",
    "    # Iterate over each unique question\n",
    "    for question in df['Question'].unique():\n",
    "        question_df = df[df['Question'] == question]\n",
    "        \n",
    "        # Get the set of relevant tables (ground truth where label == 1)\n",
    "        relevant_tables = set(question_df.loc[question_df['label'] == 1, 'Table_description'])\n",
    "        \n",
    "        accuracy_at_k = {}\n",
    "        # Compute accuracy for each K value\n",
    "        for k in k_values:\n",
    "            # Get the top K tables (assuming the DataFrame is sorted by predicted score)\n",
    "            top_k_tables = set(question_df.head(k)['Table_description'])\n",
    "            # Count how many of the top K are relevant\n",
    "            correct_predictions = len(relevant_tables.intersection(top_k_tables))\n",
    "            total_relevant = len(relevant_tables)\n",
    "            # Avoid division by zero if there are no relevant tables\n",
    "            accuracy = correct_predictions / total_relevant if total_relevant > 0 else 0\n",
    "            accuracy_at_k[k] = accuracy\n",
    "        \n",
    "        results.append({\n",
    "            'question': question,\n",
    "            'relevant_table': relevant_tables,\n",
    "            'accuracy_at_k': accuracy_at_k\n",
    "        })\n",
    "    \n",
    "    return results\n",
    "\n",
    "# Define K values for evaluation\n",
    "k_values = [1, 2, 3, 4, 5, 6]\n",
    "\n",
    "# Calculate accuracy for each question\n",
    "results = calculate_accuracy_at_k(df, k_values)\n",
    "\n",
    "# Aggregate and average the accuracy across all questions for each K value\n",
    "total_accuracy_at_k = {k: 0 for k in k_values}\n",
    "for result in results:\n",
    "    for k in k_values:\n",
    "        total_accuracy_at_k[k] += result['accuracy_at_k'][k]\n",
    "\n",
    "# Average the accuracy over all questions\n",
    "num_questions = len(df['Question'].unique())\n",
    "for k in k_values:\n",
    "    total_accuracy_at_k[k] /= num_questions\n",
    "\n",
    "\n",
    "accuracy_df = pd.DataFrame({\n",
    "    'K': list(total_accuracy_at_k.keys()),\n",
    "    'Accuracy (%)': [acc * 100 for acc in total_accuracy_at_k.values()]\n",
    "})\n",
    "accuracy_df\n"
   ]
  },
  {
   "cell_type": "markdown",
   "metadata": {},
   "source": [
    "## Step 7: Saving and Loading the Fine-tuned Model\n",
    "\n",
    "After fine-tuning and evaluation, save the model so that it can be reloaded later without retraining."
   ]
  },
  {
   "cell_type": "code",
   "execution_count": 34,
   "metadata": {},
   "outputs": [
    {
     "data": {
      "application/vnd.jupyter.widget-view+json": {
       "model_id": "",
       "version_major": 2,
       "version_minor": 0
      },
      "text/plain": [
       "Computing widget examples:   0%|          | 0/1 [00:00<?, ?example/s]"
      ]
     },
     "metadata": {},
     "output_type": "display_data"
    },
    {
     "name": "stdout",
     "output_type": "stream",
     "text": [
      "Model saved to fine_tuned_embedding_model\n"
     ]
    }
   ],
   "source": [
    "# Save the fine-tuned model\n",
    "output_path = 'fine_tuned_embedding_model'\n",
    "model.save(output_path)\n",
    "print(f'Model saved to {output_path}')"
   ]
  },
  {
   "cell_type": "markdown",
   "metadata": {},
   "source": [
    "# Conclusion\n",
    "\n",
    "In this tutorial, we have:\n",
    "\n",
    "- Prepared a dataset of sentence pairs and labels.\n",
    "- Evaluated the initial model using cosine similarity histograms.\n",
    "- Fine-tuned a SentenceTransformer model using ContrastiveLoss.\n",
    "- Performed post-training evaluation with histogram analysis and computed key evaluation metrics.\n",
    "\n",
    "Feel free to modify the dataset, experiment with different loss functions, or adjust the training parameters for your specific use case. Happy fine-tuning!"
   ]
  }
 ],
 "metadata": {
  "kernelspec": {
   "display_name": "Python 3 (ipykernel)",
   "language": "python",
   "name": "python3"
  },
  "language_info": {
   "codemirror_mode": {
    "name": "ipython",
    "version": 3
   },
   "file_extension": ".py",
   "mimetype": "text/x-python",
   "name": "python",
   "nbconvert_exporter": "python",
   "pygments_lexer": "ipython3",
   "version": "3.9.6"
  }
 },
 "nbformat": 4,
 "nbformat_minor": 4
}
