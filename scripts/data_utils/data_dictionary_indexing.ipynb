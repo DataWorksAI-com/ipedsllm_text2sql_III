{
 "cells": [
  {
   "cell_type": "code",
   "execution_count": 9,
   "metadata": {},
   "outputs": [],
   "source": [
    "import pandas as pd\n",
    "import os"
   ]
  },
  {
   "cell_type": "code",
   "execution_count": 10,
   "metadata": {},
   "outputs": [],
   "source": [
    "directory_path = 'C:\\Users\\abhie\\OneDrive - Northeastern University\\ALY6980\\ipedsllm\\data_ingest\\ipeds\\dictionaries'"
   ]
  },
  {
   "cell_type": "code",
   "execution_count": 11,
   "metadata": {},
   "outputs": [],
   "source": [
    "table_names = [\"ADM2022\", \"C2022DEP\", \"EFFY2022\", \"GR2022\", \"HD2022\", \"IC2022CAMPUSES\"]"
   ]
  },
  {
   "cell_type": "code",
   "execution_count": 12,
   "metadata": {},
   "outputs": [],
   "source": [
    "ADM2022_prefix = \"\"\n",
    "C2022DEP_prefix = \"\"\n",
    "EFFY2022_prefix =\"\"\n",
    "HD2022_prefix = \"\"\n",
    "GR2022_prefix = \"\"\n",
    "IC2022_CAMPUSES_prefix = \"\""
   ]
  },
  {
   "cell_type": "code",
   "execution_count": 13,
   "metadata": {},
   "outputs": [
    {
     "ename": "FileNotFoundError",
     "evalue": "[WinError 3] The system cannot find the path specified: 'data_ingest\\\\ipeds\\\\dictionaries'",
     "output_type": "error",
     "traceback": [
      "\u001b[1;31m---------------------------------------------------------------------------\u001b[0m",
      "\u001b[1;31mFileNotFoundError\u001b[0m                         Traceback (most recent call last)",
      "Cell \u001b[1;32mIn[13], line 2\u001b[0m\n\u001b[0;32m      1\u001b[0m count \u001b[38;5;241m=\u001b[39m \u001b[38;5;241m0\u001b[39m\n\u001b[1;32m----> 2\u001b[0m \u001b[38;5;28;01mfor\u001b[39;00m filename \u001b[38;5;129;01min\u001b[39;00m \u001b[43mos\u001b[49m\u001b[38;5;241;43m.\u001b[39;49m\u001b[43mlistdir\u001b[49m\u001b[43m(\u001b[49m\u001b[43mdirectory_path\u001b[49m\u001b[43m)\u001b[49m:\n\u001b[0;32m      3\u001b[0m     \u001b[38;5;66;03m# Check if the item is a file (not a subdirectory)\u001b[39;00m\n\u001b[0;32m      4\u001b[0m     \u001b[38;5;28;01mif\u001b[39;00m os\u001b[38;5;241m.\u001b[39mpath\u001b[38;5;241m.\u001b[39misfile(os\u001b[38;5;241m.\u001b[39mpath\u001b[38;5;241m.\u001b[39mjoin(directory_path, filename)):\n\u001b[0;32m      5\u001b[0m         df \u001b[38;5;241m=\u001b[39m pd\u001b[38;5;241m.\u001b[39mread_excel(directory_path\u001b[38;5;241m+\u001b[39m\u001b[38;5;124m\"\u001b[39m\u001b[38;5;124m/\u001b[39m\u001b[38;5;124m\"\u001b[39m\u001b[38;5;241m+\u001b[39mfilename,sheet_name \u001b[38;5;241m=\u001b[39m \u001b[38;5;124m'\u001b[39m\u001b[38;5;124mvarlist\u001b[39m\u001b[38;5;124m'\u001b[39m)\n",
      "\u001b[1;31mFileNotFoundError\u001b[0m: [WinError 3] The system cannot find the path specified: 'data_ingest\\\\ipeds\\\\dictionaries'"
     ]
    }
   ],
   "source": [
    "count = 0\n",
    "for filename in os.listdir(directory_path):\n",
    "    # Check if the item is a file (not a subdirectory)\n",
    "    if os.path.isfile(os.path.join(directory_path, filename)):\n",
    "        df = pd.read_excel(directory_path+\"/\"+filename,sheet_name = 'varlist')\n",
    "        df1 = pd.read_excel(directory_path+\"/\"+filename,sheet_name = 'Frequencies')\n",
    "        df2 = pd.read_excel(directory_path+\"/\"+filename,sheet_name = 'Introduction')\n",
    "        dataset = df[['varname','format','DataType','varTitle']]\n",
    "        dataset2 = df1[['varname','codevalue','valuelabel']]\n",
    "        dataset.loc[:, 'DataType'] = dataset['DataType'].replace({'N': 'Numeric', 'A': 'Text'})\n",
    "        tabledesc = str(str(df2['TableDescription'].iloc[0]).replace(',', ';').replace(':', '').replace('/',' or '))\n",
    "        tableName = str(str(df2['TableName'].iloc[0]))\n",
    "        del df, df1\n",
    "        if table_names[count].lower() in filename:\n",
    "            descr = \"\"\n",
    "            for index, row in dataset.iterrows():\n",
    "                varName= ''\n",
    "                desc = ''\n",
    "                if row['format'] in 'Disc':\n",
    "                    varName = str(row['varname']).lower()\n",
    "                    desc = str(row['varTitle']).replace(',', ';').replace(':', '').replace('/',' or ')\n",
    "                    dtype = str(row['DataType'])\n",
    "                    values = {}\n",
    "                    for index2, row2 in dataset2.iterrows():\n",
    "                        if row['varname'] in row2['varname']:\n",
    "                            values[str(row2['codevalue'])] = str(row2['valuelabel']).replace(',', ';').replace(':', '').replace(\"\\\\\",'').replace(\"'\",\"\").replace('/',' or ')\n",
    "                            \n",
    "                    if len(descr) == 0:\n",
    "                        descr += '{ \"Table_Info\": [ { \"Table_Name\": \"'+ tableName + '\", \"Table_Description\": '+ tabledesc +', \"Columns\": [ { \"Column_Name\": \"' + varName + '\", \"Data_Type\": \"'+ dtype+ '\", \"Column_Description\": \"'+ desc +'\", \"encoded_values\": \"' + str(values) +'\" }'\n",
    "                    else:\n",
    "                        descr += ', {\"Column_Name\": \"' + varName + '\", \"Data_Type\": \"'+ dtype+ '\", \"Column_Description\": \"'+ desc  + '\", \"encoded_values\": \"' + str(values) +'\" }'\n",
    "                else:\n",
    "                    varName = str(row['varname']).lower()\n",
    "                    desc = str(row['varTitle']).replace(',', ';').replace(':', '').replace('/',' or ')\n",
    "                    dtype = str(row['DataType'])\n",
    "                    if len(descr) == 0:\n",
    "                        descr += '{ \"Table_Info\": [ {\"Table_Name\": \"'+ tableName + '\", \"Table_Description\": '+ tabledesc +', \"Columns\": [ { \"Column_Name\": \"' + varName + '\", \"Data_Type\": \"'+ dtype+ '\", \"Column_Description\": \"'+ desc+'\" }'\n",
    "                    else:\n",
    "                        descr += ', {\"Column_Name\": \"'+ varName + '\", \"Data_Type\": \"'+ dtype + '\", \"Column_Description\": \"'+ desc +'\" }'\n",
    "            descr += ']}]}'\n",
    "            if count == 0:\n",
    "                ADM2022_prefix += descr\n",
    "            elif count ==1:\n",
    "                C2022DEP_prefix += descr\n",
    "            elif count ==2:\n",
    "                EFFY2022_prefix += descr\n",
    "            elif count ==3:\n",
    "                GR2022_prefix += descr\n",
    "            elif count ==4:\n",
    "                HD2022_prefix += descr\n",
    "            else:\n",
    "                IC2022_CAMPUSES_prefix += descr\n",
    "    count+=1"
   ]
  },
  {
   "cell_type": "code",
   "execution_count": null,
   "metadata": {},
   "outputs": [],
   "source": [
    "# count = 0\n",
    "# for filename in os.listdir(directory_path):\n",
    "#     # Check if the item is a file (not a subdirectory)\n",
    "#     if os.path.isfile(os.path.join(directory_path, filename)):\n",
    "#         df = pd.read_excel(directory_path+\"/\"+filename,sheet_name = 'varlist')\n",
    "#         df1 = pd.read_excel(directory_path+\"/\"+filename,sheet_name = 'Frequencies')\n",
    "#         dataset = df[['varname','format','varTitle']]\n",
    "#         dataset2 = df1[['varname','codevalue','valuelabel']]\n",
    "#         del df, df1\n",
    "#         if table_names[count].lower() in filename:\n",
    "#             descr = \"\"\n",
    "#             vals =  \"\"\n",
    "#             for index, row in dataset.iterrows():\n",
    "#                 varName= ''\n",
    "#                 desc = ''\n",
    "#                 if row['format'] in 'Disc':\n",
    "#                     varName = str(row['varname']).lower()\n",
    "#                     desc = str(row['varTitle']).replace(',', '').replace(':', '').replace('/',' or ')\n",
    "#                     if descr in '':\n",
    "#                         descr += \"SQL Table \"+ table_names[count] + \" contains {\" + varName + \": \"+ desc\n",
    "#                     else:\n",
    "#                         descr += \", \"+ varName + \": \"+ desc\n",
    "#                     values = {}\n",
    "#                     for index2, row2 in dataset2.iterrows():\n",
    "#                         if row['varname'] in row2['varname']:\n",
    "#                             values[row2['codevalue']] = str(row2['valuelabel']).replace(',', '').replace(':', '')\n",
    "#                     vals += \". Variable \" + varName + \" contains \" + str(values)\n",
    "#                 else:\n",
    "#                     varName = str(row['varname']).lower()\n",
    "#                     desc = str(row['varTitle']).replace(',', '').replace(':', '').replace('/',' or ')\n",
    "#                     if descr in '':\n",
    "#                         descr += \"SQL Table \"+ table_names[count] + \" contains {\" + varName + \": \"+ desc\n",
    "#                     else:\n",
    "#                         descr += \", \"+ varName + \": \"+ desc\n",
    "#             descr += \"}\"\n",
    "#             if count == 0:\n",
    "#                 ADM2022_prefix += descr + vals\n",
    "#             elif count ==1:\n",
    "#                 C2022DEP_prefix += descr + vals\n",
    "#             elif count ==2:\n",
    "#                 EFFY2022_prefix += descr + vals\n",
    "#             elif count ==3:\n",
    "#                 GR2022_prefix += descr + vals\n",
    "#             elif count ==4:\n",
    "#                 HD2022_prefix += descr + vals\n",
    "#             else:\n",
    "#                 IC2022_CAMPUSES_prefix += descr + vals\n",
    "#     count+=1"
   ]
  },
  {
   "cell_type": "code",
   "execution_count": 6,
   "metadata": {},
   "outputs": [],
   "source": [
    "json_objects = [\n",
    "    ADM2022_prefix,\n",
    "C2022DEP_prefix,\n",
    "EFFY2022_prefix,\n",
    "HD2022_prefix,\n",
    "GR2022_prefix,\n",
    "IC2022_CAMPUSES_prefix,\n",
    "]"
   ]
  },
  {
   "cell_type": "code",
   "execution_count": 7,
   "metadata": {},
   "outputs": [],
   "source": [
    "import json\n",
    "ls = []\n",
    "for i in json_objects:\n",
    "    ls.append(json.loads(i))"
   ]
  },
  {
   "cell_type": "code",
   "execution_count": 8,
   "metadata": {},
   "outputs": [],
   "source": [
    "with open(\"tableinfo.json\", \"w\") as json_file:\n",
    "    json.dump(ls, json_file, indent=4)"
   ]
  }
 ],
 "metadata": {
  "kernelspec": {
   "display_name": "Python 3",
   "language": "python",
   "name": "python3"
  },
  "language_info": {
   "codemirror_mode": {
    "name": "ipython",
    "version": 3
   },
   "file_extension": ".py",
   "mimetype": "text/x-python",
   "name": "python",
   "nbconvert_exporter": "python",
   "pygments_lexer": "ipython3",
   "version": "3.9.18"
  },
  "orig_nbformat": 4
 },
 "nbformat": 4,
 "nbformat_minor": 2
}
