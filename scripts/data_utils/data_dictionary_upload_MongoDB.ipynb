{
  "cells": [
    {
      "cell_type": "code",
      "execution_count": null,
      "metadata": {},
      "outputs": [],
      "source": [
        "pip install jq"
      ]
    },
    {
      "cell_type": "code",
      "execution_count": 8,
      "metadata": {
        "id": "21O0YT4fnFXx"
      },
      "outputs": [
        {
          "data": {
            "text/plain": [
              "True"
            ]
          },
          "execution_count": 8,
          "metadata": {},
          "output_type": "execute_result"
        }
      ],
      "source": [
        "from pymongo import MongoClient\n",
        "import os\n",
        "from dotenv import load_dotenv\n",
        "load_dotenv()"
      ]
    },
    {
      "cell_type": "code",
      "execution_count": 6,
      "metadata": {
        "id": "IDEUWKWcnFXx"
      },
      "outputs": [],
      "source": [
        "\n",
        "client = MongoClient(os.getenv('MONGODB_URI'), tls=True,\n",
        "    tlsAllowInvalidCertificates=True)\n",
        "db = client.get_database(os.getenv('DB_NAME'))\n",
        "c_name = os.getenv('COLLECTION_NAME')\n",
        "collection = db[c_name]"
      ]
    },
    {
      "cell_type": "code",
      "execution_count": 11,
      "metadata": {
        "colab": {
          "base_uri": "https://localhost:8080/"
        },
        "id": "-kks21K8oKCQ",
        "outputId": "c1ea458d-e0f8-4936-cb36-6d47e3526734"
      },
      "outputs": [
        {
          "data": {
            "text/plain": [
              "DeleteResult({'n': 0, 'electionId': ObjectId('7fffffff0000000000000140'), 'opTime': {'ts': Timestamp(1718131736, 7), 't': 320}, 'ok': 1.0, '$clusterTime': {'clusterTime': Timestamp(1718131736, 7), 'signature': {'hash': b':\\x198R\\xc3\\x1f\\x11zLN.\\xb9\\nP\\xc0r(\\x89\\x92\\xa8', 'keyId': 7327031572081672193}}, 'operationTime': Timestamp(1718131736, 7)}, acknowledged=True)"
            ]
          },
          "execution_count": 11,
          "metadata": {},
          "output_type": "execute_result"
        }
      ],
      "source": [
        "collection.delete_many({})"
      ]
    },
    {
      "cell_type": "code",
      "execution_count": 13,
      "metadata": {
        "id": "AxRqRoPIgjZ8"
      },
      "outputs": [],
      "source": [
        "from langchain_community.document_loaders import JSONLoader\n",
        "from langchain_community.embeddings import OpenAIEmbeddings\n",
        "def metadata_func(record: dict, metadata: dict) -> dict:\n",
        "    def column_retriever(ls):\n",
        "        # cname = []\n",
        "        # dtype = []\n",
        "        cdesc = {}\n",
        "        encode_values = {}\n",
        "        for i in range(len(ls)):\n",
        "            cdesc[ls[i].get(\"Column_Description\")] = ls[i].get(\"Column_Name\")\n",
        "            if ls[i].get(\"encoded_values\",-10000)!=-10000:\n",
        "              encode_values[ls[i].get(\"Column_Name\")] = ls[i].get(\"encoded_values\")\n",
        "\n",
        "        return encode_values, cdesc\n",
        "    encode_values, cdesc = column_retriever(record.get(\"Columns\"))\n",
        "\n",
        "    metadata[\"Table_Name\"] = record.get(\"Table_Name\")\n",
        "    metadata[\"Table_Description\"] = record.get(\"Table_Description\")\n",
        "    metadata[\"Encoded_Values\"] = str(encode_values)\n",
        "    metadata[\"Column_Description\"] = str(cdesc)\n",
        "\n",
        "    return metadata\n",
        "\n",
        "loader = JSONLoader(\n",
        "    file_path=\"/content/tableinfo_new.json\",\n",
        "    jq_schema=\".[].Table_Info[]\",\n",
        "    content_key=\"Table_Name\",\n",
        "    metadata_func=metadata_func,\n",
        ")\n",
        "data = loader.load()"
      ]
    },
    {
      "cell_type": "code",
      "execution_count": 14,
      "metadata": {
        "id": "lt9r-ak7wnTs"
      },
      "outputs": [],
      "source": [
        "from langchain_openai import ChatOpenAI, OpenAIEmbeddings\n",
        "\n",
        "openai_api_key = os.getenv(\"OPENAI_API_KEY\")\n",
        "\n",
        "embedding_function = OpenAIEmbeddings(\n",
        "    openai_api_key=openai_api_key, model=\"text-embedding-ada-002\")"
      ]
    },
    {
      "cell_type": "code",
      "execution_count": 15,
      "metadata": {
        "colab": {
          "base_uri": "https://localhost:8080/"
        },
        "id": "vx-I6KbetSA3",
        "outputId": "ec55d3ce-6f18-4732-8fb5-0707caa659ed"
      },
      "outputs": [
        {
          "data": {
            "text/plain": [
              "[ObjectId('66689c8ff515f46de5e7f7ca'),\n",
              " ObjectId('66689c8ff515f46de5e7f7cb'),\n",
              " ObjectId('66689c8ff515f46de5e7f7cc'),\n",
              " ObjectId('66689c8ff515f46de5e7f7cd'),\n",
              " ObjectId('66689c8ff515f46de5e7f7ce'),\n",
              " ObjectId('66689c8ff515f46de5e7f7cf')]"
            ]
          },
          "execution_count": 15,
          "metadata": {},
          "output_type": "execute_result"
        }
      ],
      "source": [
        "from langchain_mongodb import MongoDBAtlasVectorSearch\n",
        "vector_search = MongoDBAtlasVectorSearch(collection=collection, embedding=embedding_function)\n",
        "\n",
        "# Add documents to the vector index\n",
        "vector_search.add_documents(\n",
        "    documents=data,\n",
        "    index_name=os.getenv(\"ATLAS_VECTOR_SEARCH_INDEX_NAME\")\n",
        ")"
      ]
    }
  ],
  "metadata": {
    "colab": {
      "provenance": []
    },
    "kernelspec": {
      "display_name": "venv",
      "language": "python",
      "name": "python3"
    },
    "language_info": {
      "codemirror_mode": {
        "name": "ipython",
        "version": 3
      },
      "file_extension": ".py",
      "mimetype": "text/x-python",
      "name": "python",
      "nbconvert_exporter": "python",
      "pygments_lexer": "ipython3",
      "version": "3.11.0"
    }
  },
  "nbformat": 4,
  "nbformat_minor": 0
}
